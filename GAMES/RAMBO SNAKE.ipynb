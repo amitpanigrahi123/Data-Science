{
 "cells": [
  {
   "cell_type": "code",
   "execution_count": 1,
   "metadata": {},
   "outputs": [
    {
     "name": "stdout",
     "output_type": "stream",
     "text": [
      "Requirement already satisfied: pygame in d:\\anaconda\\lib\\site-packages (1.9.6)\n"
     ]
    }
   ],
   "source": [
    "!pip install pygame    "
   ]
  },
  {
   "cell_type": "code",
   "execution_count": 2,
   "metadata": {},
   "outputs": [
    {
     "name": "stdout",
     "output_type": "stream",
     "text": [
      "pygame 1.9.6\n",
      "Hello from the pygame community. https://www.pygame.org/contribute.html\n"
     ]
    }
   ],
   "source": [
    "import pygame \n",
    "import random                        #importing pygame module"
   ]
  },
  {
   "cell_type": "code",
   "execution_count": 3,
   "metadata": {},
   "outputs": [
    {
     "data": {
      "text/plain": [
       "(6, 0)"
      ]
     },
     "execution_count": 3,
     "metadata": {},
     "output_type": "execute_result"
    }
   ],
   "source": [
    "pygame.init()   #just a test to check wether pygame works or not"
   ]
  },
  {
   "cell_type": "code",
   "execution_count": 4,
   "metadata": {},
   "outputs": [],
   "source": [
    "white = (255, 255, 255)\n",
    "red = (255, 0, 0)         #DEFINING COLOURS IN RGB FORMAT\n",
    "black = (0, 0, 0)"
   ]
  },
  {
   "cell_type": "code",
   "execution_count": 5,
   "metadata": {},
   "outputs": [],
   "source": [
    "screen_width = 900\n",
    "screen_height = 600\n",
    "gameWindow=pygame.display.set_mode((screen_width, screen_height))    #creating game window"
   ]
  },
  {
   "cell_type": "code",
   "execution_count": 6,
   "metadata": {},
   "outputs": [],
   "source": [
    "pygame.display.set_caption(\"Snakes with AMIT\")                 #CREATING GAME TITLE\n",
    "pygame.display.update()                                        #used to update the changes"
   ]
  },
  {
   "cell_type": "code",
   "execution_count": 7,
   "metadata": {},
   "outputs": [],
   "source": [
    "exit_game=False               #game specific variables \n",
    "game_over=False\n",
    "snake_x = 45\n",
    "snake_y = 55\n",
    "velocity_x = 0                         #speed at which snake will move\n",
    "velocity_y = 0\n",
    "\n",
    "rat_x = random.randint(30, screen_width/2)  #generates random numbers from  0 to screen width(900)\n",
    "rat_y = random.randint(30, screen_height/2)\n",
    "score = 0\n",
    "init_velocity = 5\n",
    "snake_size = 10\n",
    "fps = 60                 #game frames per second\n",
    "\n",
    "clock = pygame.time.Clock()\n",
    "font = pygame.font.SysFont(None, 55) \n",
    "\n",
    "    \n",
    "def text_screen(text, colour, x, y):\n",
    "    screen_text = font.render(text, True, colour)\n",
    "    gameWindow.blit(screen_text, [x,y])\n",
    "    \n",
    "def plot_snake(gameWindow, colour, snk_list, snake_size):\n",
    "    for x,y in snk_list:\n",
    "        pygame.draw.rect(gameWindow, colour, [x, y, snake_size, snake_size])\n",
    "    \n",
    "    \n",
    "snk_list = []\n",
    "snk_length = 1"
   ]
  },
  {
   "cell_type": "code",
   "execution_count": null,
   "metadata": {},
   "outputs": [],
   "source": [
    "while not exit_game:\n",
    "    for event in pygame.event.get():\n",
    "        if event.type==pygame.QUIT:         #EVENT HANDLING\n",
    "            exit_game=True\n",
    "            \n",
    "        if event.type == pygame.KEYDOWN:\n",
    "            if event.key == pygame.K_RIGHT:\n",
    "                velocity_x = init_velocity\n",
    "                velocity_y = 0\n",
    "                \n",
    "            if event.key == pygame.K_LEFT:\n",
    "                velocity_x = - init_velocity\n",
    "                velocity_y = 0\n",
    "                \n",
    "            if event.key == pygame.K_UP:\n",
    "                velocity_y = - init_velocity\n",
    "                velocity_x = 0\n",
    "                \n",
    "            if event.key == pygame.K_DOWN:\n",
    "                velocity_y = init_velocity\n",
    "                velocity_x = 0\n",
    "                \n",
    "                \n",
    "    snake_x = snake_x + velocity_x\n",
    "    snake_y = snake_y + velocity_y\n",
    "    \n",
    "    if abs(snake_x - rat_x)<6 and abs(snake_y - rat_y)<6:        #use of abs function\n",
    "        score +=1\n",
    "        rat_x = random.randint(30, screen_width/2)\n",
    "        rat_y = random.randint(30, screen_height/2)\n",
    "        snk_length +=5\n",
    "            \n",
    "    gameWindow.fill(white)\n",
    "    text_screen(\"score: \"+ str(score * 10), red, 5, 5)\n",
    "    pygame.draw.rect(gameWindow, red, [rat_x, rat_y, snake_size, snake_size])\n",
    "    \n",
    "    \n",
    "    head = []\n",
    "    head.append(snake_x)\n",
    "    head.append(snake_y)\n",
    "    snk_list.append(head)\n",
    "    \n",
    "    \n",
    "    if len(snk_list)>snk_length:\n",
    "        del snk_list[0]\n",
    "    \n",
    "    \n",
    "    #pygame.draw.rect(gameWindow, black, [snake_x, snake_y, snake_size, snake_size])\n",
    "    plot_snake(gameWindow, black, snk_list, snake_size)\n",
    "    pygame.display.update()\n",
    "    clock.tick(fps)\n",
    "    \n",
    "    \n",
    "pygame.quit()\n",
    "quit()\n",
    "        \n",
    "        \n"
   ]
  },
  {
   "cell_type": "code",
   "execution_count": null,
   "metadata": {},
   "outputs": [],
   "source": []
  }
 ],
 "metadata": {
  "kernelspec": {
   "display_name": "Python 3",
   "language": "python",
   "name": "python3"
  },
  "language_info": {
   "codemirror_mode": {
    "name": "ipython",
    "version": 3
   },
   "file_extension": ".py",
   "mimetype": "text/x-python",
   "name": "python",
   "nbconvert_exporter": "python",
   "pygments_lexer": "ipython3",
   "version": "3.7.3"
  }
 },
 "nbformat": 4,
 "nbformat_minor": 2
}
