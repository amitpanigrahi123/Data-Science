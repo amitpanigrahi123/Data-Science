{
 "cells": [
  {
   "cell_type": "code",
   "execution_count": 2,
   "metadata": {},
   "outputs": [
    {
     "name": "stdout",
     "output_type": "stream",
     "text": [
      "enter a new number;10\n",
      "enter a old number20\n",
      "1020\n"
     ]
    }
   ],
   "source": [
    "x=input(\"enter a new number;\") #user can input any functions using input \n",
    "y=input(\"enter a old number\") #since input automatically takes argument as string\n",
    "z=x+y #datsy it did not added the numbers in output, its just joined\n",
    "print(z)"
   ]
  },
  {
   "cell_type": "code",
   "execution_count": 3,
   "metadata": {},
   "outputs": [
    {
     "name": "stdout",
     "output_type": "stream",
     "text": [
      "enter first number:10\n",
      "enter second number:30\n",
      "40\n"
     ]
    }
   ],
   "source": [
    "f=int(input(\"enter first number:\"))#here we specified the input as integer\n",
    "g=int(input(\"enter second number:\"))\n",
    "i=f+g #datsy it added the numbers and shows the result\n",
    "print(i)"
   ]
  },
  {
   "cell_type": "code",
   "execution_count": 7,
   "metadata": {},
   "outputs": [
    {
     "name": "stdout",
     "output_type": "stream",
     "text": [
      "enter a ch:amit\n",
      "a\n"
     ]
    }
   ],
   "source": [
    "ch=input('enter a ch:')[0] #in case we want to print a specific character from a string\n",
    "print(ch) #we can do that by assigning index number"
   ]
  },
  {
   "cell_type": "code",
   "execution_count": 9,
   "metadata": {},
   "outputs": [
    {
     "name": "stdout",
     "output_type": "stream",
     "text": [
      "enter an expr:2+6-3\n",
      "5\n"
     ]
    }
   ],
   "source": [
    "operation=eval(input('enter an expr:')) # 'eval' is used to carry out a math operation in one line\n",
    "print(operation)"
   ]
  },
  {
   "cell_type": "code",
   "execution_count": null,
   "metadata": {},
   "outputs": [],
   "source": []
  }
 ],
 "metadata": {
  "kernelspec": {
   "display_name": "Python 3",
   "language": "python",
   "name": "python3"
  },
  "language_info": {
   "codemirror_mode": {
    "name": "ipython",
    "version": 3
   },
   "file_extension": ".py",
   "mimetype": "text/x-python",
   "name": "python",
   "nbconvert_exporter": "python",
   "pygments_lexer": "ipython3",
   "version": "3.7.3"
  }
 },
 "nbformat": 4,
 "nbformat_minor": 2
}
