{
 "cells": [
  {
   "cell_type": "code",
   "execution_count": 5,
   "metadata": {},
   "outputs": [
    {
     "name": "stdout",
     "output_type": "stream",
     "text": [
      "40\n",
      "equal\n"
     ]
    }
   ],
   "source": [
    "x=20                #first give two variables x & y\n",
    "y=40\n",
    "z=int(input())      #assign an integer input to the 3rd variable\n",
    "\n",
    "if z>y:   #give a condition that 'if z is greater than y' by giving a colon to enter into if statement\n",
    "    print('greater')    #then print greater\n",
    "if z==y:             #given condition if z equal to y\n",
    "    print('equal')       #then print equal\n",
    "else:                    #or else\n",
    "    print('lesser')      #print 'lesser'\n"
   ]
  },
  {
   "cell_type": "code",
   "execution_count": 6,
   "metadata": {},
   "outputs": [],
   "source": [
    "#the problem here is it will check every 'if' statement in every step, \n",
    "#so that it will take somuch time in case of huge programms\n",
    "#so we now use else if statement--in short we write 'ELIF'"
   ]
  },
  {
   "cell_type": "code",
   "execution_count": 10,
   "metadata": {},
   "outputs": [
    {
     "name": "stdout",
     "output_type": "stream",
     "text": [
      "40\n",
      "greater\n"
     ]
    }
   ],
   "source": [
    "a=50\n",
    "b=30\n",
    "c=int(input())\n",
    "if c>b:\n",
    "    print('greater')\n",
    "elif c==b: #here we use elif satement, so that if one of the statement is true then it will come out\n",
    "    print('equal')\n",
    "else:\n",
    "    print('lesser')"
   ]
  },
  {
   "cell_type": "code",
   "execution_count": 15,
   "metadata": {},
   "outputs": [
    {
     "name": "stdout",
     "output_type": "stream",
     "text": [
      "no its not in the list1\n"
     ]
    }
   ],
   "source": [
    "list1=[10,20,30]    #we give a list\n",
    "if 15 in list1:     #condition given that if 15 is in the list1\n",
    "    print('yes its in the list1')   #if yes then it will print this statement\n",
    "else:               #or else\n",
    "    print('no its not in the list1')   #it will print this statement"
   ]
  },
  {
   "cell_type": "code",
   "execution_count": 27,
   "metadata": {},
   "outputs": [
    {
     "name": "stdout",
     "output_type": "stream",
     "text": [
      "what is your age?\n",
      "18\n",
      "we will think about it\n"
     ]
    }
   ],
   "source": [
    "print('what is your age?') # question asked about age for eligibility to drive\n",
    "age=int(input())   #age must be an integer\n",
    "if age>18:         #condition given if age is greater than 18\n",
    "    print('you can drive')  # allowed\n",
    "elif age==18:      #condition given if age is equal to 18\n",
    "    print('we will think about it') #then we will think about it\n",
    "else:               #or else\n",
    "    print('you cannot drive')  #not allowed\n",
    "\n"
   ]
  }
 ],
 "metadata": {
  "kernelspec": {
   "display_name": "Python 3",
   "language": "python",
   "name": "python3"
  },
  "language_info": {
   "codemirror_mode": {
    "name": "ipython",
    "version": 3
   },
   "file_extension": ".py",
   "mimetype": "text/x-python",
   "name": "python",
   "nbconvert_exporter": "python",
   "pygments_lexer": "ipython3",
   "version": "3.7.3"
  }
 },
 "nbformat": 4,
 "nbformat_minor": 2
}
