{
 "cells": [
  {
   "cell_type": "code",
   "execution_count": 12,
   "metadata": {},
   "outputs": [
    {
     "name": "stdout",
     "output_type": "stream",
     "text": [
      "10\n"
     ]
    }
   ],
   "source": [
    "nums = [10,34,41,42,17,67]   #assigning some values to the variable list\n",
    "\n",
    "for num in nums:          #calling the values in nums\n",
    "    if num % 5==0:             #condition given if any number in the list is divisible by 5 or not\n",
    "        print(num)        #if the \"if\" condition satisfies then it will print that particular number\n",
    "        break             #break is used to stop the loop after one iteration cycle check\n",
    "else:                      #or else if the 'if' condition not satisfied then we use 'else'\n",
    "    print(\"not found\")       #print if number divisible by 5 not found"
   ]
  },
  {
   "cell_type": "code",
   "execution_count": 13,
   "metadata": {},
   "outputs": [
    {
     "name": "stdout",
     "output_type": "stream",
     "text": [
      "not found\n"
     ]
    }
   ],
   "source": [
    "nums = [13,34,41,42,17,67]   \n",
    "\n",
    "for num in nums:\n",
    "    if num % 5==0:\n",
    "        print(num)\n",
    "        break\n",
    "else:\n",
    "    print(\"not found\")"
   ]
  }
 ],
 "metadata": {
  "kernelspec": {
   "display_name": "Python 3",
   "language": "python",
   "name": "python3"
  },
  "language_info": {
   "codemirror_mode": {
    "name": "ipython",
    "version": 3
   },
   "file_extension": ".py",
   "mimetype": "text/x-python",
   "name": "python",
   "nbconvert_exporter": "python",
   "pygments_lexer": "ipython3",
   "version": "3.7.3"
  }
 },
 "nbformat": 4,
 "nbformat_minor": 2
}
