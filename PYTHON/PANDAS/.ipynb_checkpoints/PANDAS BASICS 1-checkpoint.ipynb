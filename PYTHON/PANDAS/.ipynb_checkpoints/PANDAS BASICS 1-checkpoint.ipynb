{
 "cells": [
  {
   "cell_type": "markdown",
   "metadata": {},
   "source": [
    "## READING A CSV DATASET FILE FROM THE LOCAL PATH AS A DATAFRAME"
   ]
  },
  {
   "cell_type": "code",
   "execution_count": 5,
   "metadata": {},
   "outputs": [],
   "source": [
    "import pandas as pd                            "
   ]
  },
  {
   "cell_type": "code",
   "execution_count": 2,
   "metadata": {},
   "outputs": [],
   "source": [
    "df2 = pd.read_csv(\"dataset_2.csv\")     #reading and importing a dataset from local to the pandas Dataframe(here its taken df2)"
   ]
  },
  {
   "cell_type": "code",
   "execution_count": 3,
   "metadata": {},
   "outputs": [
    {
     "data": {
      "text/html": [
       "<div>\n",
       "<style scoped>\n",
       "    .dataframe tbody tr th:only-of-type {\n",
       "        vertical-align: middle;\n",
       "    }\n",
       "\n",
       "    .dataframe tbody tr th {\n",
       "        vertical-align: top;\n",
       "    }\n",
       "\n",
       "    .dataframe thead th {\n",
       "        text-align: right;\n",
       "    }\n",
       "</style>\n",
       "<table border=\"1\" class=\"dataframe\">\n",
       "  <thead>\n",
       "    <tr style=\"text-align: right;\">\n",
       "      <th></th>\n",
       "      <th>TransactionID</th>\n",
       "      <th>isFraud</th>\n",
       "      <th>TransactionDT</th>\n",
       "      <th>TransactionAmt</th>\n",
       "      <th>ProductCD</th>\n",
       "      <th>card1</th>\n",
       "      <th>card2</th>\n",
       "      <th>card3</th>\n",
       "      <th>card4</th>\n",
       "      <th>card5</th>\n",
       "      <th>...</th>\n",
       "      <th>V330</th>\n",
       "      <th>V331</th>\n",
       "      <th>V332</th>\n",
       "      <th>V333</th>\n",
       "      <th>V334</th>\n",
       "      <th>V335</th>\n",
       "      <th>V336</th>\n",
       "      <th>V337</th>\n",
       "      <th>V338</th>\n",
       "      <th>V339</th>\n",
       "    </tr>\n",
       "  </thead>\n",
       "  <tbody>\n",
       "    <tr>\n",
       "      <th>0</th>\n",
       "      <td>2987000</td>\n",
       "      <td>0</td>\n",
       "      <td>86400</td>\n",
       "      <td>68.50</td>\n",
       "      <td>W</td>\n",
       "      <td>13926</td>\n",
       "      <td>NaN</td>\n",
       "      <td>150.0</td>\n",
       "      <td>discover</td>\n",
       "      <td>142.0</td>\n",
       "      <td>...</td>\n",
       "      <td>NaN</td>\n",
       "      <td>NaN</td>\n",
       "      <td>NaN</td>\n",
       "      <td>NaN</td>\n",
       "      <td>NaN</td>\n",
       "      <td>NaN</td>\n",
       "      <td>NaN</td>\n",
       "      <td>NaN</td>\n",
       "      <td>NaN</td>\n",
       "      <td>NaN</td>\n",
       "    </tr>\n",
       "    <tr>\n",
       "      <th>1</th>\n",
       "      <td>2987001</td>\n",
       "      <td>0</td>\n",
       "      <td>86401</td>\n",
       "      <td>29.00</td>\n",
       "      <td>W</td>\n",
       "      <td>2755</td>\n",
       "      <td>404.0</td>\n",
       "      <td>150.0</td>\n",
       "      <td>mastercard</td>\n",
       "      <td>102.0</td>\n",
       "      <td>...</td>\n",
       "      <td>NaN</td>\n",
       "      <td>NaN</td>\n",
       "      <td>NaN</td>\n",
       "      <td>NaN</td>\n",
       "      <td>NaN</td>\n",
       "      <td>NaN</td>\n",
       "      <td>NaN</td>\n",
       "      <td>NaN</td>\n",
       "      <td>NaN</td>\n",
       "      <td>NaN</td>\n",
       "    </tr>\n",
       "    <tr>\n",
       "      <th>2</th>\n",
       "      <td>2987002</td>\n",
       "      <td>0</td>\n",
       "      <td>86469</td>\n",
       "      <td>59.00</td>\n",
       "      <td>W</td>\n",
       "      <td>4663</td>\n",
       "      <td>490.0</td>\n",
       "      <td>150.0</td>\n",
       "      <td>visa</td>\n",
       "      <td>166.0</td>\n",
       "      <td>...</td>\n",
       "      <td>NaN</td>\n",
       "      <td>NaN</td>\n",
       "      <td>NaN</td>\n",
       "      <td>NaN</td>\n",
       "      <td>NaN</td>\n",
       "      <td>NaN</td>\n",
       "      <td>NaN</td>\n",
       "      <td>NaN</td>\n",
       "      <td>NaN</td>\n",
       "      <td>NaN</td>\n",
       "    </tr>\n",
       "    <tr>\n",
       "      <th>3</th>\n",
       "      <td>2987003</td>\n",
       "      <td>0</td>\n",
       "      <td>86499</td>\n",
       "      <td>50.00</td>\n",
       "      <td>W</td>\n",
       "      <td>18132</td>\n",
       "      <td>567.0</td>\n",
       "      <td>150.0</td>\n",
       "      <td>mastercard</td>\n",
       "      <td>117.0</td>\n",
       "      <td>...</td>\n",
       "      <td>NaN</td>\n",
       "      <td>NaN</td>\n",
       "      <td>NaN</td>\n",
       "      <td>NaN</td>\n",
       "      <td>NaN</td>\n",
       "      <td>NaN</td>\n",
       "      <td>NaN</td>\n",
       "      <td>NaN</td>\n",
       "      <td>NaN</td>\n",
       "      <td>NaN</td>\n",
       "    </tr>\n",
       "    <tr>\n",
       "      <th>4</th>\n",
       "      <td>2987004</td>\n",
       "      <td>0</td>\n",
       "      <td>86506</td>\n",
       "      <td>50.00</td>\n",
       "      <td>H</td>\n",
       "      <td>4497</td>\n",
       "      <td>514.0</td>\n",
       "      <td>150.0</td>\n",
       "      <td>mastercard</td>\n",
       "      <td>102.0</td>\n",
       "      <td>...</td>\n",
       "      <td>0.0</td>\n",
       "      <td>0.0</td>\n",
       "      <td>0.0</td>\n",
       "      <td>0.0</td>\n",
       "      <td>0.0</td>\n",
       "      <td>0.0</td>\n",
       "      <td>0.0</td>\n",
       "      <td>0.0</td>\n",
       "      <td>0.0</td>\n",
       "      <td>0.0</td>\n",
       "    </tr>\n",
       "    <tr>\n",
       "      <th>...</th>\n",
       "      <td>...</td>\n",
       "      <td>...</td>\n",
       "      <td>...</td>\n",
       "      <td>...</td>\n",
       "      <td>...</td>\n",
       "      <td>...</td>\n",
       "      <td>...</td>\n",
       "      <td>...</td>\n",
       "      <td>...</td>\n",
       "      <td>...</td>\n",
       "      <td>...</td>\n",
       "      <td>...</td>\n",
       "      <td>...</td>\n",
       "      <td>...</td>\n",
       "      <td>...</td>\n",
       "      <td>...</td>\n",
       "      <td>...</td>\n",
       "      <td>...</td>\n",
       "      <td>...</td>\n",
       "      <td>...</td>\n",
       "      <td>...</td>\n",
       "    </tr>\n",
       "    <tr>\n",
       "      <th>590535</th>\n",
       "      <td>3577535</td>\n",
       "      <td>0</td>\n",
       "      <td>15811047</td>\n",
       "      <td>49.00</td>\n",
       "      <td>W</td>\n",
       "      <td>6550</td>\n",
       "      <td>NaN</td>\n",
       "      <td>150.0</td>\n",
       "      <td>visa</td>\n",
       "      <td>226.0</td>\n",
       "      <td>...</td>\n",
       "      <td>NaN</td>\n",
       "      <td>NaN</td>\n",
       "      <td>NaN</td>\n",
       "      <td>NaN</td>\n",
       "      <td>NaN</td>\n",
       "      <td>NaN</td>\n",
       "      <td>NaN</td>\n",
       "      <td>NaN</td>\n",
       "      <td>NaN</td>\n",
       "      <td>NaN</td>\n",
       "    </tr>\n",
       "    <tr>\n",
       "      <th>590536</th>\n",
       "      <td>3577536</td>\n",
       "      <td>0</td>\n",
       "      <td>15811049</td>\n",
       "      <td>39.50</td>\n",
       "      <td>W</td>\n",
       "      <td>10444</td>\n",
       "      <td>225.0</td>\n",
       "      <td>150.0</td>\n",
       "      <td>mastercard</td>\n",
       "      <td>224.0</td>\n",
       "      <td>...</td>\n",
       "      <td>NaN</td>\n",
       "      <td>NaN</td>\n",
       "      <td>NaN</td>\n",
       "      <td>NaN</td>\n",
       "      <td>NaN</td>\n",
       "      <td>NaN</td>\n",
       "      <td>NaN</td>\n",
       "      <td>NaN</td>\n",
       "      <td>NaN</td>\n",
       "      <td>NaN</td>\n",
       "    </tr>\n",
       "    <tr>\n",
       "      <th>590537</th>\n",
       "      <td>3577537</td>\n",
       "      <td>0</td>\n",
       "      <td>15811079</td>\n",
       "      <td>30.95</td>\n",
       "      <td>W</td>\n",
       "      <td>12037</td>\n",
       "      <td>595.0</td>\n",
       "      <td>150.0</td>\n",
       "      <td>mastercard</td>\n",
       "      <td>224.0</td>\n",
       "      <td>...</td>\n",
       "      <td>NaN</td>\n",
       "      <td>NaN</td>\n",
       "      <td>NaN</td>\n",
       "      <td>NaN</td>\n",
       "      <td>NaN</td>\n",
       "      <td>NaN</td>\n",
       "      <td>NaN</td>\n",
       "      <td>NaN</td>\n",
       "      <td>NaN</td>\n",
       "      <td>NaN</td>\n",
       "    </tr>\n",
       "    <tr>\n",
       "      <th>590538</th>\n",
       "      <td>3577538</td>\n",
       "      <td>0</td>\n",
       "      <td>15811088</td>\n",
       "      <td>117.00</td>\n",
       "      <td>W</td>\n",
       "      <td>7826</td>\n",
       "      <td>481.0</td>\n",
       "      <td>150.0</td>\n",
       "      <td>mastercard</td>\n",
       "      <td>224.0</td>\n",
       "      <td>...</td>\n",
       "      <td>NaN</td>\n",
       "      <td>NaN</td>\n",
       "      <td>NaN</td>\n",
       "      <td>NaN</td>\n",
       "      <td>NaN</td>\n",
       "      <td>NaN</td>\n",
       "      <td>NaN</td>\n",
       "      <td>NaN</td>\n",
       "      <td>NaN</td>\n",
       "      <td>NaN</td>\n",
       "    </tr>\n",
       "    <tr>\n",
       "      <th>590539</th>\n",
       "      <td>3577539</td>\n",
       "      <td>0</td>\n",
       "      <td>15811131</td>\n",
       "      <td>279.95</td>\n",
       "      <td>W</td>\n",
       "      <td>15066</td>\n",
       "      <td>170.0</td>\n",
       "      <td>150.0</td>\n",
       "      <td>mastercard</td>\n",
       "      <td>102.0</td>\n",
       "      <td>...</td>\n",
       "      <td>NaN</td>\n",
       "      <td>NaN</td>\n",
       "      <td>NaN</td>\n",
       "      <td>NaN</td>\n",
       "      <td>NaN</td>\n",
       "      <td>NaN</td>\n",
       "      <td>NaN</td>\n",
       "      <td>NaN</td>\n",
       "      <td>NaN</td>\n",
       "      <td>NaN</td>\n",
       "    </tr>\n",
       "  </tbody>\n",
       "</table>\n",
       "<p>590540 rows × 394 columns</p>\n",
       "</div>"
      ],
      "text/plain": [
       "        TransactionID  isFraud  TransactionDT  TransactionAmt ProductCD  \\\n",
       "0             2987000        0          86400           68.50         W   \n",
       "1             2987001        0          86401           29.00         W   \n",
       "2             2987002        0          86469           59.00         W   \n",
       "3             2987003        0          86499           50.00         W   \n",
       "4             2987004        0          86506           50.00         H   \n",
       "...               ...      ...            ...             ...       ...   \n",
       "590535        3577535        0       15811047           49.00         W   \n",
       "590536        3577536        0       15811049           39.50         W   \n",
       "590537        3577537        0       15811079           30.95         W   \n",
       "590538        3577538        0       15811088          117.00         W   \n",
       "590539        3577539        0       15811131          279.95         W   \n",
       "\n",
       "        card1  card2  card3       card4  card5  ... V330  V331  V332  V333  \\\n",
       "0       13926    NaN  150.0    discover  142.0  ...  NaN   NaN   NaN   NaN   \n",
       "1        2755  404.0  150.0  mastercard  102.0  ...  NaN   NaN   NaN   NaN   \n",
       "2        4663  490.0  150.0        visa  166.0  ...  NaN   NaN   NaN   NaN   \n",
       "3       18132  567.0  150.0  mastercard  117.0  ...  NaN   NaN   NaN   NaN   \n",
       "4        4497  514.0  150.0  mastercard  102.0  ...  0.0   0.0   0.0   0.0   \n",
       "...       ...    ...    ...         ...    ...  ...  ...   ...   ...   ...   \n",
       "590535   6550    NaN  150.0        visa  226.0  ...  NaN   NaN   NaN   NaN   \n",
       "590536  10444  225.0  150.0  mastercard  224.0  ...  NaN   NaN   NaN   NaN   \n",
       "590537  12037  595.0  150.0  mastercard  224.0  ...  NaN   NaN   NaN   NaN   \n",
       "590538   7826  481.0  150.0  mastercard  224.0  ...  NaN   NaN   NaN   NaN   \n",
       "590539  15066  170.0  150.0  mastercard  102.0  ...  NaN   NaN   NaN   NaN   \n",
       "\n",
       "        V334 V335 V336  V337  V338  V339  \n",
       "0        NaN  NaN  NaN   NaN   NaN   NaN  \n",
       "1        NaN  NaN  NaN   NaN   NaN   NaN  \n",
       "2        NaN  NaN  NaN   NaN   NaN   NaN  \n",
       "3        NaN  NaN  NaN   NaN   NaN   NaN  \n",
       "4        0.0  0.0  0.0   0.0   0.0   0.0  \n",
       "...      ...  ...  ...   ...   ...   ...  \n",
       "590535   NaN  NaN  NaN   NaN   NaN   NaN  \n",
       "590536   NaN  NaN  NaN   NaN   NaN   NaN  \n",
       "590537   NaN  NaN  NaN   NaN   NaN   NaN  \n",
       "590538   NaN  NaN  NaN   NaN   NaN   NaN  \n",
       "590539   NaN  NaN  NaN   NaN   NaN   NaN  \n",
       "\n",
       "[590540 rows x 394 columns]"
      ]
     },
     "execution_count": 3,
     "metadata": {},
     "output_type": "execute_result"
    }
   ],
   "source": [
    "df2                                           #to show the content of the dataset"
   ]
  },
  {
   "cell_type": "code",
   "execution_count": 71,
   "metadata": {},
   "outputs": [
    {
     "data": {
      "text/plain": [
       "31937.391"
      ]
     },
     "execution_count": 71,
     "metadata": {},
     "output_type": "execute_result"
    }
   ],
   "source": [
    "df2['TransactionAmt'].max()"
   ]
  },
  {
   "cell_type": "code",
   "execution_count": 4,
   "metadata": {},
   "outputs": [
    {
     "data": {
      "text/plain": [
       "31937.391"
      ]
     },
     "execution_count": 4,
     "metadata": {},
     "output_type": "execute_result"
    }
   ],
   "source": [
    "df2['TransactionAmt'].max()   #accesing the highest transaction amt in the dataset by specifying that column label and max()"
   ]
  },
  {
   "cell_type": "code",
   "execution_count": 5,
   "metadata": {},
   "outputs": [
    {
     "data": {
      "text/plain": [
       "0.251"
      ]
     },
     "execution_count": 5,
     "metadata": {},
     "output_type": "execute_result"
    }
   ],
   "source": [
    "df2['TransactionAmt'].min()   #same for minimum transaction amt in the dataset"
   ]
  },
  {
   "cell_type": "code",
   "execution_count": 6,
   "metadata": {},
   "outputs": [
    {
     "data": {
      "text/plain": [
       "1     86401\n",
       "3     86499\n",
       "4     86506\n",
       "9     86536\n",
       "10    86549\n",
       "11    86555\n",
       "17    86668\n",
       "20    86761\n",
       "21    86769\n",
       "23    86808\n",
       "25    86944\n",
       "28    86973\n",
       "33    87078\n",
       "49    87317\n",
       "52    87333\n",
       "53    87349\n",
       "60    87581\n",
       "62    87601\n",
       "72    87752\n",
       "76    87787\n",
       "Name: TransactionDT, dtype: int64"
      ]
     },
     "execution_count": 6,
     "metadata": {},
     "output_type": "execute_result"
    }
   ],
   "source": [
    "df2['TransactionDT'][df2['card4']=='mastercard'].head(20) #it shows the transactiondt and the rowlabel in which mastercard is used\n",
    "                                            #also dont forget to mention the card4 column in which types of cards are present"
   ]
  },
  {
   "cell_type": "code",
   "execution_count": 7,
   "metadata": {},
   "outputs": [
    {
     "data": {
      "text/plain": [
       "135.02717637293821"
      ]
     },
     "execution_count": 7,
     "metadata": {},
     "output_type": "execute_result"
    }
   ],
   "source": [
    "df2['TransactionAmt'].mean()    #mean of Transactionamt column values"
   ]
  },
  {
   "cell_type": "code",
   "execution_count": 8,
   "metadata": {},
   "outputs": [
    {
     "data": {
      "text/plain": [
       "68.769"
      ]
     },
     "execution_count": 8,
     "metadata": {},
     "output_type": "execute_result"
    }
   ],
   "source": [
    "df2['TransactionAmt'].median()    #median of Transactionamt column values"
   ]
  },
  {
   "cell_type": "code",
   "execution_count": 9,
   "metadata": {},
   "outputs": [
    {
     "data": {
      "text/plain": [
       "(590540, 394)"
      ]
     },
     "execution_count": 9,
     "metadata": {},
     "output_type": "execute_result"
    }
   ],
   "source": [
    "df2.shape"
   ]
  },
  {
   "cell_type": "markdown",
   "metadata": {},
   "source": [
    "## CREATING A DATAFRAME MANUALLY FROM THE DICTIONARY"
   ]
  },
  {
   "cell_type": "code",
   "execution_count": 10,
   "metadata": {},
   "outputs": [],
   "source": [
    "amit_good = {'vidu':['langu', 'sangu', 'dangu', 'hangu'],\n",
    "            'bhau':['tingu', 'jingu', 'mangu', 'yangu'],\n",
    "            'khau':['mingu', 'lingu', 'gangu', 'ungu'],\n",
    "            'hau':['dangu', 'bhangu', 'zangu', 'pingu']}         #random values and keys in a dictionary with list in it"
   ]
  },
  {
   "cell_type": "code",
   "execution_count": 11,
   "metadata": {},
   "outputs": [],
   "source": [
    "df1 = pd.DataFrame(amit_good)  #creating a dataframe of the object(amit_good) by using pandas  (here dataframe object name df1)"
   ]
  },
  {
   "cell_type": "code",
   "execution_count": 12,
   "metadata": {},
   "outputs": [
    {
     "data": {
      "text/html": [
       "<div>\n",
       "<style scoped>\n",
       "    .dataframe tbody tr th:only-of-type {\n",
       "        vertical-align: middle;\n",
       "    }\n",
       "\n",
       "    .dataframe tbody tr th {\n",
       "        vertical-align: top;\n",
       "    }\n",
       "\n",
       "    .dataframe thead th {\n",
       "        text-align: right;\n",
       "    }\n",
       "</style>\n",
       "<table border=\"1\" class=\"dataframe\">\n",
       "  <thead>\n",
       "    <tr style=\"text-align: right;\">\n",
       "      <th></th>\n",
       "      <th>vidu</th>\n",
       "      <th>bhau</th>\n",
       "      <th>khau</th>\n",
       "      <th>hau</th>\n",
       "    </tr>\n",
       "  </thead>\n",
       "  <tbody>\n",
       "    <tr>\n",
       "      <th>0</th>\n",
       "      <td>langu</td>\n",
       "      <td>tingu</td>\n",
       "      <td>mingu</td>\n",
       "      <td>dangu</td>\n",
       "    </tr>\n",
       "    <tr>\n",
       "      <th>1</th>\n",
       "      <td>sangu</td>\n",
       "      <td>jingu</td>\n",
       "      <td>lingu</td>\n",
       "      <td>bhangu</td>\n",
       "    </tr>\n",
       "    <tr>\n",
       "      <th>2</th>\n",
       "      <td>dangu</td>\n",
       "      <td>mangu</td>\n",
       "      <td>gangu</td>\n",
       "      <td>zangu</td>\n",
       "    </tr>\n",
       "    <tr>\n",
       "      <th>3</th>\n",
       "      <td>hangu</td>\n",
       "      <td>yangu</td>\n",
       "      <td>ungu</td>\n",
       "      <td>pingu</td>\n",
       "    </tr>\n",
       "  </tbody>\n",
       "</table>\n",
       "</div>"
      ],
      "text/plain": [
       "    vidu   bhau   khau     hau\n",
       "0  langu  tingu  mingu   dangu\n",
       "1  sangu  jingu  lingu  bhangu\n",
       "2  dangu  mangu  gangu   zangu\n",
       "3  hangu  yangu   ungu   pingu"
      ]
     },
     "execution_count": 12,
     "metadata": {},
     "output_type": "execute_result"
    }
   ],
   "source": [
    "df1              #to show the newly created dataframe with rows and columns"
   ]
  },
  {
   "cell_type": "markdown",
   "metadata": {},
   "source": [
    "## BASIC FUNCTIONS IN PANDAS"
   ]
  },
  {
   "cell_type": "code",
   "execution_count": 13,
   "metadata": {},
   "outputs": [
    {
     "data": {
      "text/html": [
       "<div>\n",
       "<style scoped>\n",
       "    .dataframe tbody tr th:only-of-type {\n",
       "        vertical-align: middle;\n",
       "    }\n",
       "\n",
       "    .dataframe tbody tr th {\n",
       "        vertical-align: top;\n",
       "    }\n",
       "\n",
       "    .dataframe thead th {\n",
       "        text-align: right;\n",
       "    }\n",
       "</style>\n",
       "<table border=\"1\" class=\"dataframe\">\n",
       "  <thead>\n",
       "    <tr style=\"text-align: right;\">\n",
       "      <th></th>\n",
       "      <th>vidu</th>\n",
       "      <th>bhau</th>\n",
       "      <th>khau</th>\n",
       "      <th>hau</th>\n",
       "    </tr>\n",
       "  </thead>\n",
       "  <tbody>\n",
       "    <tr>\n",
       "      <th>0</th>\n",
       "      <td>langu</td>\n",
       "      <td>tingu</td>\n",
       "      <td>mingu</td>\n",
       "      <td>dangu</td>\n",
       "    </tr>\n",
       "    <tr>\n",
       "      <th>1</th>\n",
       "      <td>sangu</td>\n",
       "      <td>jingu</td>\n",
       "      <td>lingu</td>\n",
       "      <td>bhangu</td>\n",
       "    </tr>\n",
       "    <tr>\n",
       "      <th>2</th>\n",
       "      <td>dangu</td>\n",
       "      <td>mangu</td>\n",
       "      <td>gangu</td>\n",
       "      <td>zangu</td>\n",
       "    </tr>\n",
       "    <tr>\n",
       "      <th>3</th>\n",
       "      <td>hangu</td>\n",
       "      <td>yangu</td>\n",
       "      <td>ungu</td>\n",
       "      <td>pingu</td>\n",
       "    </tr>\n",
       "  </tbody>\n",
       "</table>\n",
       "</div>"
      ],
      "text/plain": [
       "    vidu   bhau   khau     hau\n",
       "0  langu  tingu  mingu   dangu\n",
       "1  sangu  jingu  lingu  bhangu\n",
       "2  dangu  mangu  gangu   zangu\n",
       "3  hangu  yangu   ungu   pingu"
      ]
     },
     "execution_count": 13,
     "metadata": {},
     "output_type": "execute_result"
    }
   ],
   "source": [
    "df1            #example dataset"
   ]
  },
  {
   "cell_type": "code",
   "execution_count": 14,
   "metadata": {},
   "outputs": [
    {
     "data": {
      "text/plain": [
       "(4, 4)"
      ]
     },
     "execution_count": 14,
     "metadata": {},
     "output_type": "execute_result"
    }
   ],
   "source": [
    "df1.shape            #shape will show the number of rows and columns present in the dataset respectively"
   ]
  },
  {
   "cell_type": "code",
   "execution_count": 15,
   "metadata": {},
   "outputs": [
    {
     "data": {
      "text/html": [
       "<div>\n",
       "<style scoped>\n",
       "    .dataframe tbody tr th:only-of-type {\n",
       "        vertical-align: middle;\n",
       "    }\n",
       "\n",
       "    .dataframe tbody tr th {\n",
       "        vertical-align: top;\n",
       "    }\n",
       "\n",
       "    .dataframe thead th {\n",
       "        text-align: right;\n",
       "    }\n",
       "</style>\n",
       "<table border=\"1\" class=\"dataframe\">\n",
       "  <thead>\n",
       "    <tr style=\"text-align: right;\">\n",
       "      <th></th>\n",
       "      <th>vidu</th>\n",
       "      <th>bhau</th>\n",
       "      <th>khau</th>\n",
       "      <th>hau</th>\n",
       "    </tr>\n",
       "  </thead>\n",
       "  <tbody>\n",
       "    <tr>\n",
       "      <th>0</th>\n",
       "      <td>langu</td>\n",
       "      <td>tingu</td>\n",
       "      <td>mingu</td>\n",
       "      <td>dangu</td>\n",
       "    </tr>\n",
       "    <tr>\n",
       "      <th>1</th>\n",
       "      <td>sangu</td>\n",
       "      <td>jingu</td>\n",
       "      <td>lingu</td>\n",
       "      <td>bhangu</td>\n",
       "    </tr>\n",
       "  </tbody>\n",
       "</table>\n",
       "</div>"
      ],
      "text/plain": [
       "    vidu   bhau   khau     hau\n",
       "0  langu  tingu  mingu   dangu\n",
       "1  sangu  jingu  lingu  bhangu"
      ]
     },
     "execution_count": 15,
     "metadata": {},
     "output_type": "execute_result"
    }
   ],
   "source": [
    "df1.head(2)     #head function will show the top few rows and columns if we specify head(number) or else head() accordingly "
   ]
  },
  {
   "cell_type": "code",
   "execution_count": 16,
   "metadata": {},
   "outputs": [
    {
     "data": {
      "text/html": [
       "<div>\n",
       "<style scoped>\n",
       "    .dataframe tbody tr th:only-of-type {\n",
       "        vertical-align: middle;\n",
       "    }\n",
       "\n",
       "    .dataframe tbody tr th {\n",
       "        vertical-align: top;\n",
       "    }\n",
       "\n",
       "    .dataframe thead th {\n",
       "        text-align: right;\n",
       "    }\n",
       "</style>\n",
       "<table border=\"1\" class=\"dataframe\">\n",
       "  <thead>\n",
       "    <tr style=\"text-align: right;\">\n",
       "      <th></th>\n",
       "      <th>vidu</th>\n",
       "      <th>bhau</th>\n",
       "      <th>khau</th>\n",
       "      <th>hau</th>\n",
       "    </tr>\n",
       "  </thead>\n",
       "  <tbody>\n",
       "    <tr>\n",
       "      <th>2</th>\n",
       "      <td>dangu</td>\n",
       "      <td>mangu</td>\n",
       "      <td>gangu</td>\n",
       "      <td>zangu</td>\n",
       "    </tr>\n",
       "    <tr>\n",
       "      <th>3</th>\n",
       "      <td>hangu</td>\n",
       "      <td>yangu</td>\n",
       "      <td>ungu</td>\n",
       "      <td>pingu</td>\n",
       "    </tr>\n",
       "  </tbody>\n",
       "</table>\n",
       "</div>"
      ],
      "text/plain": [
       "    vidu   bhau   khau    hau\n",
       "2  dangu  mangu  gangu  zangu\n",
       "3  hangu  yangu   ungu  pingu"
      ]
     },
     "execution_count": 16,
     "metadata": {},
     "output_type": "execute_result"
    }
   ],
   "source": [
    "df1.tail(2)          #tail will show the bottom rows and columns  of the dataframe"
   ]
  },
  {
   "cell_type": "code",
   "execution_count": 17,
   "metadata": {},
   "outputs": [
    {
     "data": {
      "text/html": [
       "<div>\n",
       "<style scoped>\n",
       "    .dataframe tbody tr th:only-of-type {\n",
       "        vertical-align: middle;\n",
       "    }\n",
       "\n",
       "    .dataframe tbody tr th {\n",
       "        vertical-align: top;\n",
       "    }\n",
       "\n",
       "    .dataframe thead th {\n",
       "        text-align: right;\n",
       "    }\n",
       "</style>\n",
       "<table border=\"1\" class=\"dataframe\">\n",
       "  <thead>\n",
       "    <tr style=\"text-align: right;\">\n",
       "      <th></th>\n",
       "      <th>vidu</th>\n",
       "      <th>bhau</th>\n",
       "      <th>khau</th>\n",
       "      <th>hau</th>\n",
       "    </tr>\n",
       "  </thead>\n",
       "  <tbody>\n",
       "    <tr>\n",
       "      <th>0</th>\n",
       "      <td>langu</td>\n",
       "      <td>tingu</td>\n",
       "      <td>mingu</td>\n",
       "      <td>dangu</td>\n",
       "    </tr>\n",
       "    <tr>\n",
       "      <th>1</th>\n",
       "      <td>sangu</td>\n",
       "      <td>jingu</td>\n",
       "      <td>lingu</td>\n",
       "      <td>bhangu</td>\n",
       "    </tr>\n",
       "    <tr>\n",
       "      <th>2</th>\n",
       "      <td>dangu</td>\n",
       "      <td>mangu</td>\n",
       "      <td>gangu</td>\n",
       "      <td>zangu</td>\n",
       "    </tr>\n",
       "  </tbody>\n",
       "</table>\n",
       "</div>"
      ],
      "text/plain": [
       "    vidu   bhau   khau     hau\n",
       "0  langu  tingu  mingu   dangu\n",
       "1  sangu  jingu  lingu  bhangu\n",
       "2  dangu  mangu  gangu   zangu"
      ]
     },
     "execution_count": 17,
     "metadata": {},
     "output_type": "execute_result"
    }
   ],
   "source": [
    "df1[0:3]        #printing by indexing (in this case it will print 0 to 2 rows, excluding the last range always)"
   ]
  },
  {
   "cell_type": "code",
   "execution_count": 18,
   "metadata": {},
   "outputs": [
    {
     "data": {
      "text/plain": [
       "Index(['vidu', 'bhau', 'khau', 'hau'], dtype='object')"
      ]
     },
     "execution_count": 18,
     "metadata": {},
     "output_type": "execute_result"
    }
   ],
   "source": [
    "df1.columns        #showing all the column names present in the dataset"
   ]
  },
  {
   "cell_type": "code",
   "execution_count": 19,
   "metadata": {},
   "outputs": [
    {
     "data": {
      "text/plain": [
       "0    langu\n",
       "1    sangu\n",
       "2    dangu\n",
       "3    hangu\n",
       "Name: vidu, dtype: object"
      ]
     },
     "execution_count": 19,
     "metadata": {},
     "output_type": "execute_result"
    }
   ],
   "source": [
    "df1.vidu       #to print a particular desired column( simply name it after df)"
   ]
  },
  {
   "cell_type": "code",
   "execution_count": 20,
   "metadata": {},
   "outputs": [
    {
     "data": {
      "text/html": [
       "<div>\n",
       "<style scoped>\n",
       "    .dataframe tbody tr th:only-of-type {\n",
       "        vertical-align: middle;\n",
       "    }\n",
       "\n",
       "    .dataframe tbody tr th {\n",
       "        vertical-align: top;\n",
       "    }\n",
       "\n",
       "    .dataframe thead th {\n",
       "        text-align: right;\n",
       "    }\n",
       "</style>\n",
       "<table border=\"1\" class=\"dataframe\">\n",
       "  <thead>\n",
       "    <tr style=\"text-align: right;\">\n",
       "      <th></th>\n",
       "      <th>bhau</th>\n",
       "      <th>khau</th>\n",
       "    </tr>\n",
       "  </thead>\n",
       "  <tbody>\n",
       "    <tr>\n",
       "      <th>0</th>\n",
       "      <td>tingu</td>\n",
       "      <td>mingu</td>\n",
       "    </tr>\n",
       "    <tr>\n",
       "      <th>1</th>\n",
       "      <td>jingu</td>\n",
       "      <td>lingu</td>\n",
       "    </tr>\n",
       "    <tr>\n",
       "      <th>2</th>\n",
       "      <td>mangu</td>\n",
       "      <td>gangu</td>\n",
       "    </tr>\n",
       "    <tr>\n",
       "      <th>3</th>\n",
       "      <td>yangu</td>\n",
       "      <td>ungu</td>\n",
       "    </tr>\n",
       "  </tbody>\n",
       "</table>\n",
       "</div>"
      ],
      "text/plain": [
       "    bhau   khau\n",
       "0  tingu  mingu\n",
       "1  jingu  lingu\n",
       "2  mangu  gangu\n",
       "3  yangu   ungu"
      ]
     },
     "execution_count": 20,
     "metadata": {},
     "output_type": "execute_result"
    }
   ],
   "source": [
    "df1[['bhau','khau']]      #to print multiple columns specify the column names in a double list braces"
   ]
  },
  {
   "cell_type": "markdown",
   "metadata": {},
   "source": [
    "## READING  ANOTHER CSV WITH SOME INTEGERS AND APPLYING FUNCTIONS IN IT"
   ]
  },
  {
   "cell_type": "code",
   "execution_count": 21,
   "metadata": {},
   "outputs": [
    {
     "name": "stderr",
     "output_type": "stream",
     "text": [
      "D:\\ANACONDA\\lib\\site-packages\\IPython\\core\\interactiveshell.py:3058: DtypeWarning: Columns (11,12,15,17,18,19) have mixed types. Specify dtype option on import or set low_memory=False.\n",
      "  interactivity=interactivity, compiler=compiler, result=result)\n"
     ]
    }
   ],
   "source": [
    " df3 = pd.read_csv('Civil_Service_List__Active_.csv')"
   ]
  },
  {
   "cell_type": "code",
   "execution_count": 56,
   "metadata": {},
   "outputs": [
    {
     "data": {
      "text/html": [
       "<div>\n",
       "<style scoped>\n",
       "    .dataframe tbody tr th:only-of-type {\n",
       "        vertical-align: middle;\n",
       "    }\n",
       "\n",
       "    .dataframe tbody tr th {\n",
       "        vertical-align: top;\n",
       "    }\n",
       "\n",
       "    .dataframe thead th {\n",
       "        text-align: right;\n",
       "    }\n",
       "</style>\n",
       "<table border=\"1\" class=\"dataframe\">\n",
       "  <thead>\n",
       "    <tr style=\"text-align: right;\">\n",
       "      <th></th>\n",
       "      <th>exam_no</th>\n",
       "      <th>list_no</th>\n",
       "      <th>first_name</th>\n",
       "      <th>mi</th>\n",
       "      <th>last_name</th>\n",
       "      <th>adj._fa</th>\n",
       "      <th>list_title_code</th>\n",
       "      <th>list_title_desc</th>\n",
       "      <th>group_no</th>\n",
       "      <th>list_agency_code</th>\n",
       "      <th>list_agency_desc</th>\n",
       "      <th>list_div_code</th>\n",
       "      <th>published_date</th>\n",
       "      <th>established_date</th>\n",
       "      <th>anniversary_date</th>\n",
       "      <th>extension_date</th>\n",
       "      <th>veteran_credit</th>\n",
       "      <th>parent_lgy_credit</th>\n",
       "      <th>sibling_lgy_credit</th>\n",
       "      <th>residency_credit</th>\n",
       "    </tr>\n",
       "  </thead>\n",
       "  <tbody>\n",
       "    <tr>\n",
       "      <th>0</th>\n",
       "      <td>7012</td>\n",
       "      <td>765.0</td>\n",
       "      <td>CHOI</td>\n",
       "      <td>L</td>\n",
       "      <td>WONG</td>\n",
       "      <td>70.00</td>\n",
       "      <td>10015</td>\n",
       "      <td>ADMINISTRATIVE ENGINEER</td>\n",
       "      <td>0</td>\n",
       "      <td>0</td>\n",
       "      <td>OPEN COMPETITIVE</td>\n",
       "      <td>NaN</td>\n",
       "      <td>05/24/2017</td>\n",
       "      <td>12/27/2017</td>\n",
       "      <td>12/27/2021</td>\n",
       "      <td>NaN</td>\n",
       "      <td>NaN</td>\n",
       "      <td>NaN</td>\n",
       "      <td>NaN</td>\n",
       "      <td>NaN</td>\n",
       "    </tr>\n",
       "    <tr>\n",
       "      <th>1</th>\n",
       "      <td>7012</td>\n",
       "      <td>766.0</td>\n",
       "      <td>NARESH</td>\n",
       "      <td>K</td>\n",
       "      <td>MAHANGU</td>\n",
       "      <td>70.00</td>\n",
       "      <td>10015</td>\n",
       "      <td>ADMINISTRATIVE ENGINEER</td>\n",
       "      <td>0</td>\n",
       "      <td>0</td>\n",
       "      <td>OPEN COMPETITIVE</td>\n",
       "      <td>NaN</td>\n",
       "      <td>05/24/2017</td>\n",
       "      <td>12/27/2017</td>\n",
       "      <td>12/27/2021</td>\n",
       "      <td>NaN</td>\n",
       "      <td>NaN</td>\n",
       "      <td>NaN</td>\n",
       "      <td>NaN</td>\n",
       "      <td>NaN</td>\n",
       "    </tr>\n",
       "    <tr>\n",
       "      <th>2</th>\n",
       "      <td>7012</td>\n",
       "      <td>769.0</td>\n",
       "      <td>IAN</td>\n",
       "      <td>C</td>\n",
       "      <td>RAMOS</td>\n",
       "      <td>70.00</td>\n",
       "      <td>10015</td>\n",
       "      <td>ADMINISTRATIVE ENGINEER</td>\n",
       "      <td>0</td>\n",
       "      <td>0</td>\n",
       "      <td>OPEN COMPETITIVE</td>\n",
       "      <td>NaN</td>\n",
       "      <td>05/24/2017</td>\n",
       "      <td>12/27/2017</td>\n",
       "      <td>12/27/2021</td>\n",
       "      <td>NaN</td>\n",
       "      <td>NaN</td>\n",
       "      <td>NaN</td>\n",
       "      <td>NaN</td>\n",
       "      <td>NaN</td>\n",
       "    </tr>\n",
       "    <tr>\n",
       "      <th>3</th>\n",
       "      <td>7012</td>\n",
       "      <td>770.0</td>\n",
       "      <td>YANJUN</td>\n",
       "      <td>NaN</td>\n",
       "      <td>FENG</td>\n",
       "      <td>70.00</td>\n",
       "      <td>10015</td>\n",
       "      <td>ADMINISTRATIVE ENGINEER</td>\n",
       "      <td>0</td>\n",
       "      <td>0</td>\n",
       "      <td>OPEN COMPETITIVE</td>\n",
       "      <td>NaN</td>\n",
       "      <td>05/24/2017</td>\n",
       "      <td>12/27/2017</td>\n",
       "      <td>12/27/2021</td>\n",
       "      <td>NaN</td>\n",
       "      <td>NaN</td>\n",
       "      <td>NaN</td>\n",
       "      <td>NaN</td>\n",
       "      <td>NaN</td>\n",
       "    </tr>\n",
       "    <tr>\n",
       "      <th>4</th>\n",
       "      <td>7012</td>\n",
       "      <td>771.0</td>\n",
       "      <td>JIAJI</td>\n",
       "      <td>NaN</td>\n",
       "      <td>SHI</td>\n",
       "      <td>70.00</td>\n",
       "      <td>10015</td>\n",
       "      <td>ADMINISTRATIVE ENGINEER</td>\n",
       "      <td>0</td>\n",
       "      <td>0</td>\n",
       "      <td>OPEN COMPETITIVE</td>\n",
       "      <td>NaN</td>\n",
       "      <td>05/24/2017</td>\n",
       "      <td>12/27/2017</td>\n",
       "      <td>12/27/2021</td>\n",
       "      <td>NaN</td>\n",
       "      <td>NaN</td>\n",
       "      <td>NaN</td>\n",
       "      <td>NaN</td>\n",
       "      <td>NaN</td>\n",
       "    </tr>\n",
       "    <tr>\n",
       "      <th>...</th>\n",
       "      <td>...</td>\n",
       "      <td>...</td>\n",
       "      <td>...</td>\n",
       "      <td>...</td>\n",
       "      <td>...</td>\n",
       "      <td>...</td>\n",
       "      <td>...</td>\n",
       "      <td>...</td>\n",
       "      <td>...</td>\n",
       "      <td>...</td>\n",
       "      <td>...</td>\n",
       "      <td>...</td>\n",
       "      <td>...</td>\n",
       "      <td>...</td>\n",
       "      <td>...</td>\n",
       "      <td>...</td>\n",
       "      <td>...</td>\n",
       "      <td>...</td>\n",
       "      <td>...</td>\n",
       "      <td>...</td>\n",
       "    </tr>\n",
       "    <tr>\n",
       "      <th>517518</th>\n",
       "      <td>8000</td>\n",
       "      <td>35.0</td>\n",
       "      <td>BERNARD</td>\n",
       "      <td>E</td>\n",
       "      <td>POLITOSKI</td>\n",
       "      <td>72.15</td>\n",
       "      <td>92610</td>\n",
       "      <td>MACHINIST</td>\n",
       "      <td>0</td>\n",
       "      <td>0</td>\n",
       "      <td>OPEN COMPETITIVE</td>\n",
       "      <td>NaN</td>\n",
       "      <td>NaN</td>\n",
       "      <td>01/30/2019</td>\n",
       "      <td>01/30/2023</td>\n",
       "      <td>NaN</td>\n",
       "      <td>NaN</td>\n",
       "      <td>NaN</td>\n",
       "      <td>NaN</td>\n",
       "      <td>NaN</td>\n",
       "    </tr>\n",
       "    <tr>\n",
       "      <th>517519</th>\n",
       "      <td>8000</td>\n",
       "      <td>3.0</td>\n",
       "      <td>DEVINDRA</td>\n",
       "      <td>P</td>\n",
       "      <td>GOBARDHAN</td>\n",
       "      <td>95.72</td>\n",
       "      <td>92610</td>\n",
       "      <td>MACHINIST</td>\n",
       "      <td>0</td>\n",
       "      <td>0</td>\n",
       "      <td>OPEN COMPETITIVE</td>\n",
       "      <td>NaN</td>\n",
       "      <td>NaN</td>\n",
       "      <td>01/30/2019</td>\n",
       "      <td>01/30/2023</td>\n",
       "      <td>NaN</td>\n",
       "      <td>NaN</td>\n",
       "      <td>NaN</td>\n",
       "      <td>NaN</td>\n",
       "      <td>NaN</td>\n",
       "    </tr>\n",
       "    <tr>\n",
       "      <th>517520</th>\n",
       "      <td>8534</td>\n",
       "      <td>1.0</td>\n",
       "      <td>HEMCHAND</td>\n",
       "      <td>NaN</td>\n",
       "      <td>BHARASAIN</td>\n",
       "      <td>76.22</td>\n",
       "      <td>92610</td>\n",
       "      <td>MACHINIST</td>\n",
       "      <td>0</td>\n",
       "      <td>40</td>\n",
       "      <td>DEPARTMENT OF EDUCATION</td>\n",
       "      <td>NaN</td>\n",
       "      <td>NaN</td>\n",
       "      <td>01/30/2019</td>\n",
       "      <td>01/30/2023</td>\n",
       "      <td>NaN</td>\n",
       "      <td>NaN</td>\n",
       "      <td>NaN</td>\n",
       "      <td>NaN</td>\n",
       "      <td>NaN</td>\n",
       "    </tr>\n",
       "    <tr>\n",
       "      <th>517521</th>\n",
       "      <td>8534</td>\n",
       "      <td>1.0</td>\n",
       "      <td>LEIF</td>\n",
       "      <td>J</td>\n",
       "      <td>LAMBERTSON</td>\n",
       "      <td>92.53</td>\n",
       "      <td>92610</td>\n",
       "      <td>MACHINIST</td>\n",
       "      <td>0</td>\n",
       "      <td>826</td>\n",
       "      <td>DEPARTMENT OF ENVIRONMENTAL PROTECTION</td>\n",
       "      <td>NaN</td>\n",
       "      <td>NaN</td>\n",
       "      <td>01/30/2019</td>\n",
       "      <td>01/30/2023</td>\n",
       "      <td>NaN</td>\n",
       "      <td>NaN</td>\n",
       "      <td>NaN</td>\n",
       "      <td>NaN</td>\n",
       "      <td>NaN</td>\n",
       "    </tr>\n",
       "    <tr>\n",
       "      <th>517522</th>\n",
       "      <td>8534</td>\n",
       "      <td>1.0</td>\n",
       "      <td>NEIL</td>\n",
       "      <td>A</td>\n",
       "      <td>RIKKHI</td>\n",
       "      <td>92.61</td>\n",
       "      <td>92610</td>\n",
       "      <td>MACHINIST</td>\n",
       "      <td>0</td>\n",
       "      <td>841</td>\n",
       "      <td>DEPARTMENT OF TRANSPORTATION</td>\n",
       "      <td>NaN</td>\n",
       "      <td>NaN</td>\n",
       "      <td>01/30/2019</td>\n",
       "      <td>01/30/2023</td>\n",
       "      <td>NaN</td>\n",
       "      <td>NaN</td>\n",
       "      <td>NaN</td>\n",
       "      <td>NaN</td>\n",
       "      <td>NaN</td>\n",
       "    </tr>\n",
       "  </tbody>\n",
       "</table>\n",
       "<p>517523 rows × 20 columns</p>\n",
       "</div>"
      ],
      "text/plain": [
       "        exam_no  list_no first_name   mi   last_name  adj._fa  \\\n",
       "0          7012    765.0       CHOI    L        WONG    70.00   \n",
       "1          7012    766.0     NARESH    K     MAHANGU    70.00   \n",
       "2          7012    769.0        IAN    C       RAMOS    70.00   \n",
       "3          7012    770.0     YANJUN  NaN        FENG    70.00   \n",
       "4          7012    771.0      JIAJI  NaN         SHI    70.00   \n",
       "...         ...      ...        ...  ...         ...      ...   \n",
       "517518     8000     35.0    BERNARD    E   POLITOSKI    72.15   \n",
       "517519     8000      3.0   DEVINDRA    P   GOBARDHAN    95.72   \n",
       "517520     8534      1.0   HEMCHAND  NaN   BHARASAIN    76.22   \n",
       "517521     8534      1.0       LEIF    J  LAMBERTSON    92.53   \n",
       "517522     8534      1.0       NEIL    A      RIKKHI    92.61   \n",
       "\n",
       "        list_title_code          list_title_desc  group_no  list_agency_code  \\\n",
       "0                 10015  ADMINISTRATIVE ENGINEER         0                 0   \n",
       "1                 10015  ADMINISTRATIVE ENGINEER         0                 0   \n",
       "2                 10015  ADMINISTRATIVE ENGINEER         0                 0   \n",
       "3                 10015  ADMINISTRATIVE ENGINEER         0                 0   \n",
       "4                 10015  ADMINISTRATIVE ENGINEER         0                 0   \n",
       "...                 ...                      ...       ...               ...   \n",
       "517518            92610                MACHINIST         0                 0   \n",
       "517519            92610                MACHINIST         0                 0   \n",
       "517520            92610                MACHINIST         0                40   \n",
       "517521            92610                MACHINIST         0               826   \n",
       "517522            92610                MACHINIST         0               841   \n",
       "\n",
       "                              list_agency_desc list_div_code published_date  \\\n",
       "0                             OPEN COMPETITIVE           NaN     05/24/2017   \n",
       "1                             OPEN COMPETITIVE           NaN     05/24/2017   \n",
       "2                             OPEN COMPETITIVE           NaN     05/24/2017   \n",
       "3                             OPEN COMPETITIVE           NaN     05/24/2017   \n",
       "4                             OPEN COMPETITIVE           NaN     05/24/2017   \n",
       "...                                        ...           ...            ...   \n",
       "517518                        OPEN COMPETITIVE           NaN            NaN   \n",
       "517519                        OPEN COMPETITIVE           NaN            NaN   \n",
       "517520                 DEPARTMENT OF EDUCATION           NaN            NaN   \n",
       "517521  DEPARTMENT OF ENVIRONMENTAL PROTECTION           NaN            NaN   \n",
       "517522            DEPARTMENT OF TRANSPORTATION           NaN            NaN   \n",
       "\n",
       "       established_date anniversary_date extension_date veteran_credit  \\\n",
       "0            12/27/2017       12/27/2021            NaN            NaN   \n",
       "1            12/27/2017       12/27/2021            NaN            NaN   \n",
       "2            12/27/2017       12/27/2021            NaN            NaN   \n",
       "3            12/27/2017       12/27/2021            NaN            NaN   \n",
       "4            12/27/2017       12/27/2021            NaN            NaN   \n",
       "...                 ...              ...            ...            ...   \n",
       "517518       01/30/2019       01/30/2023            NaN            NaN   \n",
       "517519       01/30/2019       01/30/2023            NaN            NaN   \n",
       "517520       01/30/2019       01/30/2023            NaN            NaN   \n",
       "517521       01/30/2019       01/30/2023            NaN            NaN   \n",
       "517522       01/30/2019       01/30/2023            NaN            NaN   \n",
       "\n",
       "       parent_lgy_credit sibling_lgy_credit residency_credit  \n",
       "0                    NaN                NaN              NaN  \n",
       "1                    NaN                NaN              NaN  \n",
       "2                    NaN                NaN              NaN  \n",
       "3                    NaN                NaN              NaN  \n",
       "4                    NaN                NaN              NaN  \n",
       "...                  ...                ...              ...  \n",
       "517518               NaN                NaN              NaN  \n",
       "517519               NaN                NaN              NaN  \n",
       "517520               NaN                NaN              NaN  \n",
       "517521               NaN                NaN              NaN  \n",
       "517522               NaN                NaN              NaN  \n",
       "\n",
       "[517523 rows x 20 columns]"
      ]
     },
     "execution_count": 56,
     "metadata": {},
     "output_type": "execute_result"
    }
   ],
   "source": [
    "df3"
   ]
  },
  {
   "cell_type": "code",
   "execution_count": 23,
   "metadata": {},
   "outputs": [
    {
     "data": {
      "text/html": [
       "<div>\n",
       "<style scoped>\n",
       "    .dataframe tbody tr th:only-of-type {\n",
       "        vertical-align: middle;\n",
       "    }\n",
       "\n",
       "    .dataframe tbody tr th {\n",
       "        vertical-align: top;\n",
       "    }\n",
       "\n",
       "    .dataframe thead th {\n",
       "        text-align: right;\n",
       "    }\n",
       "</style>\n",
       "<table border=\"1\" class=\"dataframe\">\n",
       "  <thead>\n",
       "    <tr style=\"text-align: right;\">\n",
       "      <th></th>\n",
       "      <th>Exam No</th>\n",
       "      <th>List No</th>\n",
       "      <th>Adj. FA</th>\n",
       "      <th>List Title Code</th>\n",
       "      <th>Group No</th>\n",
       "      <th>List Agency Code</th>\n",
       "    </tr>\n",
       "  </thead>\n",
       "  <tbody>\n",
       "    <tr>\n",
       "      <th>count</th>\n",
       "      <td>517523.000000</td>\n",
       "      <td>517523.000000</td>\n",
       "      <td>517523.000000</td>\n",
       "      <td>517523.000000</td>\n",
       "      <td>517523.000000</td>\n",
       "      <td>517523.000000</td>\n",
       "    </tr>\n",
       "    <tr>\n",
       "      <th>mean</th>\n",
       "      <td>6175.633091</td>\n",
       "      <td>8628.222445</td>\n",
       "      <td>86.796815</td>\n",
       "      <td>62960.817556</td>\n",
       "      <td>0.006197</td>\n",
       "      <td>35.126505</td>\n",
       "    </tr>\n",
       "    <tr>\n",
       "      <th>std</th>\n",
       "      <td>1615.264328</td>\n",
       "      <td>14728.973447</td>\n",
       "      <td>8.595322</td>\n",
       "      <td>24425.569861</td>\n",
       "      <td>0.079357</td>\n",
       "      <td>170.707898</td>\n",
       "    </tr>\n",
       "    <tr>\n",
       "      <th>min</th>\n",
       "      <td>134.000000</td>\n",
       "      <td>0.500000</td>\n",
       "      <td>65.000000</td>\n",
       "      <td>10015.000000</td>\n",
       "      <td>0.000000</td>\n",
       "      <td>0.000000</td>\n",
       "    </tr>\n",
       "    <tr>\n",
       "      <th>25%</th>\n",
       "      <td>5001.000000</td>\n",
       "      <td>331.000000</td>\n",
       "      <td>80.000000</td>\n",
       "      <td>60817.000000</td>\n",
       "      <td>0.000000</td>\n",
       "      <td>0.000000</td>\n",
       "    </tr>\n",
       "    <tr>\n",
       "      <th>50%</th>\n",
       "      <td>6524.000000</td>\n",
       "      <td>1077.000000</td>\n",
       "      <td>87.500000</td>\n",
       "      <td>70210.000000</td>\n",
       "      <td>0.000000</td>\n",
       "      <td>0.000000</td>\n",
       "    </tr>\n",
       "    <tr>\n",
       "      <th>75%</th>\n",
       "      <td>7323.000000</td>\n",
       "      <td>9647.000000</td>\n",
       "      <td>93.570000</td>\n",
       "      <td>70811.000000</td>\n",
       "      <td>0.000000</td>\n",
       "      <td>0.000000</td>\n",
       "    </tr>\n",
       "    <tr>\n",
       "      <th>max</th>\n",
       "      <td>9602.000000</td>\n",
       "      <td>68720.000000</td>\n",
       "      <td>124.000000</td>\n",
       "      <td>92610.000000</td>\n",
       "      <td>5.000000</td>\n",
       "      <td>998.000000</td>\n",
       "    </tr>\n",
       "  </tbody>\n",
       "</table>\n",
       "</div>"
      ],
      "text/plain": [
       "             Exam No        List No        Adj. FA  List Title Code  \\\n",
       "count  517523.000000  517523.000000  517523.000000    517523.000000   \n",
       "mean     6175.633091    8628.222445      86.796815     62960.817556   \n",
       "std      1615.264328   14728.973447       8.595322     24425.569861   \n",
       "min       134.000000       0.500000      65.000000     10015.000000   \n",
       "25%      5001.000000     331.000000      80.000000     60817.000000   \n",
       "50%      6524.000000    1077.000000      87.500000     70210.000000   \n",
       "75%      7323.000000    9647.000000      93.570000     70811.000000   \n",
       "max      9602.000000   68720.000000     124.000000     92610.000000   \n",
       "\n",
       "            Group No  List Agency Code  \n",
       "count  517523.000000     517523.000000  \n",
       "mean        0.006197         35.126505  \n",
       "std         0.079357        170.707898  \n",
       "min         0.000000          0.000000  \n",
       "25%         0.000000          0.000000  \n",
       "50%         0.000000          0.000000  \n",
       "75%         0.000000          0.000000  \n",
       "max         5.000000        998.000000  "
      ]
     },
     "execution_count": 23,
     "metadata": {},
     "output_type": "execute_result"
    }
   ],
   "source": [
    "df3.describe()"
   ]
  },
  {
   "cell_type": "code",
   "execution_count": 55,
   "metadata": {},
   "outputs": [
    {
     "data": {
      "text/plain": [
       "0      L\n",
       "1      K\n",
       "2      C\n",
       "3    NaN\n",
       "4    NaN\n",
       "Name: mi, dtype: object"
      ]
     },
     "execution_count": 55,
     "metadata": {},
     "output_type": "execute_result"
    }
   ],
   "source": [
    "df3['mi'].head(5)"
   ]
  },
  {
   "cell_type": "code",
   "execution_count": 38,
   "metadata": {},
   "outputs": [],
   "source": [
    "#here in df3 dataframe the column names have spaces in it, so we cant call a column name directly, we have to convert it, strip it."
   ]
  },
  {
   "cell_type": "code",
   "execution_count": 45,
   "metadata": {},
   "outputs": [],
   "source": [
    "df3.columns = df3.columns.str.strip().str.lower().str.replace(' ', '_').str.replace('(', '').str.replace(')', '')"
   ]
  },
  {
   "cell_type": "code",
   "execution_count": 62,
   "metadata": {},
   "outputs": [
    {
     "data": {
      "text/plain": [
       "124.0"
      ]
     },
     "execution_count": 62,
     "metadata": {},
     "output_type": "execute_result"
    }
   ],
   "source": [
    "df3['adj._fa'].max()"
   ]
  },
  {
   "cell_type": "code",
   "execution_count": 60,
   "metadata": {},
   "outputs": [
    {
     "data": {
      "text/plain": [
       "134"
      ]
     },
     "execution_count": 60,
     "metadata": {},
     "output_type": "execute_result"
    }
   ],
   "source": [
    "df3['exam_no'].min()"
   ]
  },
  {
   "cell_type": "code",
   "execution_count": 74,
   "metadata": {},
   "outputs": [
    {
     "data": {
      "text/plain": [
       "RangeIndex(start=0, stop=517523, step=1)"
      ]
     },
     "execution_count": 74,
     "metadata": {},
     "output_type": "execute_result"
    }
   ],
   "source": [
    "df3.index"
   ]
  },
  {
   "cell_type": "markdown",
   "metadata": {},
   "source": [
    "## creating a dataframe from list of Tuples"
   ]
  },
  {
   "cell_type": "code",
   "execution_count": 2,
   "metadata": {},
   "outputs": [],
   "source": [
    "import pandas as pd"
   ]
  },
  {
   "cell_type": "code",
   "execution_count": 7,
   "metadata": {},
   "outputs": [
    {
     "data": {
      "text/html": [
       "<div>\n",
       "<style scoped>\n",
       "    .dataframe tbody tr th:only-of-type {\n",
       "        vertical-align: middle;\n",
       "    }\n",
       "\n",
       "    .dataframe tbody tr th {\n",
       "        vertical-align: top;\n",
       "    }\n",
       "\n",
       "    .dataframe thead th {\n",
       "        text-align: right;\n",
       "    }\n",
       "</style>\n",
       "<table border=\"1\" class=\"dataframe\">\n",
       "  <thead>\n",
       "    <tr style=\"text-align: right;\">\n",
       "      <th></th>\n",
       "      <th>day</th>\n",
       "      <th>night</th>\n",
       "      <th>evening</th>\n",
       "    </tr>\n",
       "  </thead>\n",
       "  <tbody>\n",
       "    <tr>\n",
       "      <th>0</th>\n",
       "      <td>amit</td>\n",
       "      <td>59</td>\n",
       "      <td>rainy</td>\n",
       "    </tr>\n",
       "    <tr>\n",
       "      <th>1</th>\n",
       "      <td>shamit</td>\n",
       "      <td>88</td>\n",
       "      <td>sunny</td>\n",
       "    </tr>\n",
       "    <tr>\n",
       "      <th>2</th>\n",
       "      <td>games</td>\n",
       "      <td>69</td>\n",
       "      <td>hazy</td>\n",
       "    </tr>\n",
       "  </tbody>\n",
       "</table>\n",
       "</div>"
      ],
      "text/plain": [
       "      day  night evening\n",
       "0    amit     59   rainy\n",
       "1  shamit     88   sunny\n",
       "2   games     69    hazy"
      ]
     },
     "execution_count": 7,
     "metadata": {},
     "output_type": "execute_result"
    }
   ],
   "source": [
    "weather_dat = [('amit', 59, 'rainy'),\n",
    "              ('shamit', 88, 'sunny'),                   # random dataset created in which list contains 3 tuples\n",
    "              ('games', 69, 'hazy')]\n",
    "df5 = pd.DataFrame(weather_dat, columns=[\"day\", \"night\", \"evening\"])   #in the line where we create the dataframe \n",
    "df5                                                                     # we can specify column names"
   ]
  },
  {
   "cell_type": "markdown",
   "metadata": {},
   "source": [
    "## CREATING A DATFRAME FROM THE LIST OF DICTIONARIES"
   ]
  },
  {
   "cell_type": "code",
   "execution_count": 10,
   "metadata": {},
   "outputs": [
    {
     "data": {
      "text/html": [
       "<div>\n",
       "<style scoped>\n",
       "    .dataframe tbody tr th:only-of-type {\n",
       "        vertical-align: middle;\n",
       "    }\n",
       "\n",
       "    .dataframe tbody tr th {\n",
       "        vertical-align: top;\n",
       "    }\n",
       "\n",
       "    .dataframe thead th {\n",
       "        text-align: right;\n",
       "    }\n",
       "</style>\n",
       "<table border=\"1\" class=\"dataframe\">\n",
       "  <thead>\n",
       "    <tr style=\"text-align: right;\">\n",
       "      <th></th>\n",
       "      <th>good</th>\n",
       "      <th>bad</th>\n",
       "      <th>worst</th>\n",
       "    </tr>\n",
       "  </thead>\n",
       "  <tbody>\n",
       "    <tr>\n",
       "      <th>0</th>\n",
       "      <td>shot</td>\n",
       "      <td>shot</td>\n",
       "      <td>shot</td>\n",
       "    </tr>\n",
       "  </tbody>\n",
       "</table>\n",
       "</div>"
      ],
      "text/plain": [
       "   good   bad worst\n",
       "0  shot  shot  shot"
      ]
     },
     "execution_count": 10,
     "metadata": {},
     "output_type": "execute_result"
    }
   ],
   "source": [
    "amit_dat = [\n",
    "    {'good':'shot', 'bad':'shot', 'worst':'shot'}   #one dictionary is present in the list with (columnname:values) format\n",
    "]\n",
    "df9 = pd.DataFrame(amit_dat)        \n",
    "df9"
   ]
  }
 ],
 "metadata": {
  "kernelspec": {
   "display_name": "Python 3",
   "language": "python",
   "name": "python3"
  },
  "language_info": {
   "codemirror_mode": {
    "name": "ipython",
    "version": 3
   },
   "file_extension": ".py",
   "mimetype": "text/x-python",
   "name": "python",
   "nbconvert_exporter": "python",
   "pygments_lexer": "ipython3",
   "version": "3.7.3"
  }
 },
 "nbformat": 4,
 "nbformat_minor": 2
}
