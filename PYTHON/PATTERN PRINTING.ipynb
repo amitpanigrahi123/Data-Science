{
 "cells": [
  {
   "cell_type": "code",
   "execution_count": 77,
   "metadata": {},
   "outputs": [
    {
     "name": "stdout",
     "output_type": "stream",
     "text": [
      "# # # # # \n",
      "# # # # # \n",
      "# # # # # \n",
      "# # # # # \n",
      "# # # # # \n"
     ]
    }
   ],
   "source": [
    "for i in range(5):               #range(5) means 0,1,2,3,4 number of rows(i) in a for loop\n",
    "    for j in range(5):           #this loop is inside the above loop so that it will run till the above loop ends and columns(j)\n",
    "        print(\"# \", end=\"\")      #to print '#' in a square manner and to print it horiziontally order we use 'end=\"\"'\n",
    "    print()                      #this print is used for printing the values in next line down after each loop            "
   ]
  },
  {
   "cell_type": "code",
   "execution_count": 73,
   "metadata": {},
   "outputs": [
    {
     "name": "stdout",
     "output_type": "stream",
     "text": [
      "$ $ $ $ $ $ \n",
      "$ $ $ $ $ \n",
      "$ $ $ $ \n",
      "$ $ $ \n",
      "$ $ \n",
      "$ \n"
     ]
    }
   ],
   "source": [
    "for i in range(6):            #assigning row numbers as 6 and variable name=i\n",
    "    for j in range(6-i):      #assigning column numbers as 6-i means(6-0),(6-1),(6-2) and so on for every cycle of loop\n",
    "        print(\"$ \",end=\"\")     #\"end=\"\"' is used to print in one line horiziontally sequential order\n",
    "    print()"
   ]
  },
  {
   "cell_type": "code",
   "execution_count": 71,
   "metadata": {},
   "outputs": [
    {
     "name": "stdout",
     "output_type": "stream",
     "text": [
      "% \n",
      "% % \n",
      "% % % \n",
      "% % % % \n",
      "% % % % % \n",
      "% % % % % % \n",
      "% % % % % % % \n",
      "% % % % % % % % \n",
      "% % % % % % % % % \n",
      "% % % % % % % % % % \n"
     ]
    }
   ],
   "source": [
    "for i in range(10):              #assigning range of rows are 10\n",
    "    for j in range(i+1):                   #here (i+1) means 0+1, 1+1, 2+1 and so on for every cycle of loop\n",
    "        print(\"% \",end =\"\")     \n",
    "    print()"
   ]
  }
 ],
 "metadata": {
  "kernelspec": {
   "display_name": "Python 3",
   "language": "python",
   "name": "python3"
  },
  "language_info": {
   "codemirror_mode": {
    "name": "ipython",
    "version": 3
   },
   "file_extension": ".py",
   "mimetype": "text/x-python",
   "name": "python",
   "nbconvert_exporter": "python",
   "pygments_lexer": "ipython3",
   "version": "3.7.3"
  }
 },
 "nbformat": 4,
 "nbformat_minor": 2
}
