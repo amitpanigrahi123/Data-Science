{
 "cells": [
  {
   "cell_type": "code",
   "execution_count": 1,
   "metadata": {},
   "outputs": [
    {
     "name": "stdout",
     "output_type": "stream",
     "text": [
      "amit\n",
      "ankit\n",
      "arpita\n"
     ]
    }
   ],
   "source": [
    "list1=['amit','ankit','arpita'] #just a list with some name\n",
    "for items in list1:   #use of for loop to print all the items in the list at once\n",
    "    print(items)"
   ]
  },
  {
   "cell_type": "code",
   "execution_count": 8,
   "metadata": {},
   "outputs": [
    {
     "name": "stdout",
     "output_type": "stream",
     "text": [
      "10\n",
      "20\n",
      "329\n",
      "90\n"
     ]
    }
   ],
   "source": [
    "items=[10,20,'jaguar',329,1,4,5,90,'amit'] #some random datas- strings as well as integers\n",
    "for item in items:   #use of for loop to get the item in items list\n",
    "    if str(item).isnumeric() and item>6:  #use of 'if' and there is a string present in list\n",
    "        print(item)    #so if its numeric and greater than 6, then it will print.\n",
    "#here also keywords like 'in' and 'and' is used"
   ]
  }
 ],
 "metadata": {
  "kernelspec": {
   "display_name": "Python 3",
   "language": "python",
   "name": "python3"
  },
  "language_info": {
   "codemirror_mode": {
    "name": "ipython",
    "version": 3
   },
   "file_extension": ".py",
   "mimetype": "text/x-python",
   "name": "python",
   "nbconvert_exporter": "python",
   "pygments_lexer": "ipython3",
   "version": "3.7.3"
  }
 },
 "nbformat": 4,
 "nbformat_minor": 2
}
