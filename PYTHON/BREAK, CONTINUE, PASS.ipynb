{
 "cells": [
  {
   "cell_type": "markdown",
   "metadata": {},
   "source": [
    "# BREAK"
   ]
  },
  {
   "cell_type": "code",
   "execution_count": 20,
   "metadata": {},
   "outputs": [
    {
     "name": "stdout",
     "output_type": "stream",
     "text": [
      "how many candies you want6\n",
      "candy\n",
      "candy\n",
      "candy\n",
      "candy\n",
      "candy\n",
      "out of stock\n",
      "have a nice day\n"
     ]
    }
   ],
   "source": [
    "avc = 5                            #available candies\n",
    "\n",
    "x = int(input(\"how many candies you want\"))       #integer user input for number of candies we want\n",
    "\n",
    "i = 1                           #for printing candy 1 time we assign to a variable 'i'\n",
    "while i<=x:                    # 'i' in relation to x, depends upon what a user give\n",
    "    if i>avc:                  #if user input is larger than the available candies\n",
    "        print(\"out of stock\")                #it will print if the \"if\" condition satisfy\n",
    "        break                         #then we use 'break' to come out of while loop condition\n",
    "        \n",
    "    print(\"candy\")              #print candy when we input number of candies we want with \"while loop\" condition above\n",
    "    i+=1                         # increment everytime we run the loop\n",
    "                                           \n",
    "print(\"have a nice day\")          #it will print after the above statement       (after break)"
   ]
  },
  {
   "cell_type": "markdown",
   "metadata": {},
   "source": [
    "# CONTINUE"
   ]
  },
  {
   "cell_type": "code",
   "execution_count": 21,
   "metadata": {},
   "outputs": [
    {
     "name": "stdout",
     "output_type": "stream",
     "text": [
      "1\n",
      "2\n",
      "4\n",
      "5\n",
      "7\n",
      "8\n",
      "10\n",
      "11\n",
      "13\n",
      "14\n",
      "16\n",
      "17\n",
      "19\n",
      "20\n",
      "22\n",
      "23\n",
      "25\n",
      "26\n",
      "28\n",
      "29\n",
      "31\n",
      "32\n",
      "34\n",
      "35\n",
      "37\n",
      "38\n",
      "40\n",
      "41\n",
      "43\n",
      "44\n",
      "46\n",
      "47\n",
      "49\n",
      "50\n",
      "52\n",
      "53\n",
      "55\n",
      "56\n",
      "58\n",
      "59\n",
      "61\n",
      "62\n",
      "64\n",
      "65\n",
      "67\n",
      "68\n",
      "70\n",
      "71\n",
      "73\n",
      "74\n",
      "76\n",
      "77\n",
      "79\n",
      "80\n",
      "82\n",
      "83\n",
      "85\n",
      "86\n",
      "88\n",
      "89\n",
      "91\n",
      "92\n",
      "94\n",
      "95\n",
      "97\n",
      "98\n",
      "bye\n"
     ]
    }
   ],
   "source": [
    "for i in range(1,100):                  #we take all the numbers from 1 to 100 using for loop\n",
    "    \n",
    "    if i%3==0:                         #  condition given ---if 'i' is divisible by 3 \n",
    "        continue            #'continue' statement so that it will continously print the numbers which satisfies above condition\n",
    "                                      #without getting out of loop\n",
    "    print(i)              #printing the range of numbers with given condition(which is divisible by 3)\n",
    "    \n",
    "print(\"bye\")                 #at last outside loop we print bye"
   ]
  },
  {
   "cell_type": "markdown",
   "metadata": {},
   "source": [
    "# PASS"
   ]
  },
  {
   "cell_type": "code",
   "execution_count": 22,
   "metadata": {},
   "outputs": [
    {
     "name": "stdout",
     "output_type": "stream",
     "text": [
      "2\n",
      "4\n",
      "6\n",
      "8\n",
      "10\n",
      "12\n",
      "14\n",
      "16\n",
      "18\n",
      "20\n",
      "22\n",
      "24\n",
      "26\n",
      "28\n",
      "30\n",
      "32\n",
      "34\n",
      "36\n",
      "38\n",
      "40\n",
      "42\n",
      "44\n",
      "46\n",
      "48\n",
      "50\n",
      "52\n",
      "54\n",
      "56\n",
      "58\n",
      "60\n",
      "62\n",
      "64\n",
      "66\n",
      "68\n",
      "70\n",
      "72\n",
      "74\n",
      "76\n",
      "78\n",
      "80\n",
      "82\n",
      "84\n",
      "86\n",
      "88\n",
      "90\n",
      "92\n",
      "94\n",
      "96\n",
      "98\n",
      "bye\n"
     ]
    }
   ],
   "source": [
    "for i in range(1,100):           #we take range of numbers from 1 to 100\n",
    "    \n",
    "    if i%2!=0:                   #condition given that if the number divisible by 2 is not equal to 0(odd numbers)\n",
    "        pass                            #then it will simply skip this condition\n",
    "    \n",
    "    else:                      #or else \n",
    "        print(i)                         #if the condition doesnot satisfy then we get the even numbers\n",
    "        \n",
    "print(\"bye\")               #at last print bye"
   ]
  },
  {
   "cell_type": "code",
   "execution_count": 15,
   "metadata": {},
   "outputs": [
    {
     "name": "stdout",
     "output_type": "stream",
     "text": [
      "hello  0\n",
      "hello  1\n",
      "hello  2\n",
      "hello  3\n"
     ]
    }
   ],
   "source": [
    "for i in range(5):\n",
    "    \n",
    "    if i==4:\n",
    "        continue                            #so continue will skip the 'if' condition statement, and print the rest\n",
    "    print(\"hello \", i)"
   ]
  },
  {
   "cell_type": "code",
   "execution_count": 16,
   "metadata": {},
   "outputs": [
    {
     "name": "stdout",
     "output_type": "stream",
     "text": [
      "hello  0\n",
      "hello  1\n"
     ]
    }
   ],
   "source": [
    "for i in range(5):\n",
    "    \n",
    "    if i==2:                                    \n",
    "        break  #so break will stop the loop,when the if condition satisfy, only print items till the if condition satisfies\n",
    "    print(\"hello \", i)"
   ]
  },
  {
   "cell_type": "code",
   "execution_count": 18,
   "metadata": {},
   "outputs": [],
   "source": [
    "def rambo():\n",
    "    pass              #pass is used when we define a function and want to store nothing in it, or for later purpose"
   ]
  }
 ],
 "metadata": {
  "kernelspec": {
   "display_name": "Python 3",
   "language": "python",
   "name": "python3"
  },
  "language_info": {
   "codemirror_mode": {
    "name": "ipython",
    "version": 3
   },
   "file_extension": ".py",
   "mimetype": "text/x-python",
   "name": "python",
   "nbconvert_exporter": "python",
   "pygments_lexer": "ipython3",
   "version": "3.7.3"
  }
 },
 "nbformat": 4,
 "nbformat_minor": 2
}
